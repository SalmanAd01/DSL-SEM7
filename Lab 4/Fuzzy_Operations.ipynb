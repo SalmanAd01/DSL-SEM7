{
 "cells": [
  {
   "cell_type": "code",
   "execution_count": 13,
   "metadata": {},
   "outputs": [],
   "source": [
    "A = dict()\n",
    "B = dict()\n",
    " \n",
    "A = {\"a\": 0.2, \"b\": 0.3, \"c\": 0.6, \"d\": 0.6}\n",
    "B = {\"a\": 0.9, \"b\": 0.9, \"c\": 0.4, \"d\": 0.5}"
   ]
  },
  {
   "cell_type": "code",
   "execution_count": 32,
   "metadata": {},
   "outputs": [
    {
     "data": {
      "text/plain": [
       "{'a': 0.9, 'b': 0.9, 'c': 0.6, 'd': 0.6}"
      ]
     },
     "execution_count": 32,
     "metadata": {},
     "output_type": "execute_result"
    }
   ],
   "source": [
    "def find_union(a,b):\n",
    "    ans = dict()\n",
    "    for a_k,b_k in zip(a,b):\n",
    "        ans[a_k] = max(a[a_k],b[b_k])\n",
    "    return ans\n",
    "\n",
    "find_union(A,B)"
   ]
  },
  {
   "cell_type": "code",
   "execution_count": 34,
   "metadata": {},
   "outputs": [
    {
     "data": {
      "text/plain": [
       "{'a': 0.2, 'b': 0.3, 'c': 0.4, 'd': 0.5}"
      ]
     },
     "execution_count": 34,
     "metadata": {},
     "output_type": "execute_result"
    }
   ],
   "source": [
    "def find_intersection(a,b):\n",
    "    ans = dict()\n",
    "    for a_k,b_k in zip(a,b):\n",
    "        ans[a_k] = min(a[a_k],b[b_k])\n",
    "    return ans\n",
    "find_intersection(A,B)"
   ]
  },
  {
   "cell_type": "code",
   "execution_count": 36,
   "metadata": {},
   "outputs": [
    {
     "data": {
      "text/plain": [
       "({'a': 0.8, 'b': 0.7, 'c': 0.4, 'd': 0.4},\n",
       " {'a': 0.1, 'b': 0.1, 'c': 0.6, 'd': 0.5})"
      ]
     },
     "execution_count": 36,
     "metadata": {},
     "output_type": "execute_result"
    }
   ],
   "source": [
    "def find_complement(a):\n",
    "    ans = dict()\n",
    "    for k,val in a.items():\n",
    "        ans[k] = float(\"{:.2f}\".format(1 - val))\n",
    "    \n",
    "    return ans\n",
    "\n",
    "find_complement(A),find_complement(B)"
   ]
  },
  {
   "cell_type": "code",
   "execution_count": 37,
   "metadata": {},
   "outputs": [
    {
     "data": {
      "text/plain": [
       "({'a': 0.1, 'b': 0.1, 'c': 0.6, 'd': 0.5},\n",
       " {'a': 0.8, 'b': 0.7, 'c': 0.4, 'd': 0.4})"
      ]
     },
     "execution_count": 37,
     "metadata": {},
     "output_type": "execute_result"
    }
   ],
   "source": [
    "def find_diffrance(a,b):\n",
    "    b_complement = find_complement(b)\n",
    "    ans = find_intersection(a,b_complement)\n",
    "    return ans\n",
    "\n",
    "find_diffrance(A,B),find_diffrance(B,A)"
   ]
  },
  {
   "cell_type": "code",
   "execution_count": 24,
   "metadata": {},
   "outputs": [],
   "source": [
    "def find_sum(a,b):\n",
    "    ans = dict()\n",
    "    for a_k , b_k  in zip(a,b):\n",
    "        ans[a_k] = a[a_k] + b[b_k]\n",
    "    \n",
    "    return ans\n",
    "\n",
    "def find_minus(a,b):\n",
    "    ans = dict()\n",
    "    for a_k , b_k  in zip(a,b):\n",
    "        ans[a_k] = float(\"{:.2f}\".format(a[a_k] - b[b_k]))\n",
    "    \n",
    "    return ans\n",
    "\n",
    "def find_product(a,b):\n",
    "    ans = dict()\n",
    "    for a_k , b_k  in zip(a,b):\n",
    "        ans[a_k] = float(\"{:.2f}\".format(a[a_k] * b[b_k]))\n",
    "    \n",
    "    return ans"
   ]
  },
  {
   "cell_type": "code",
   "execution_count": 27,
   "metadata": {},
   "outputs": [
    {
     "data": {
      "text/plain": [
       "{'a': 0.92, 'b': 0.93, 'c': 0.76, 'd': 0.8}"
      ]
     },
     "execution_count": 27,
     "metadata": {},
     "output_type": "execute_result"
    }
   ],
   "source": [
    "def find_algebric_sum(a,b):\n",
    "    sum_ = find_sum(a,b)\n",
    "    mul_ = find_product(a,b)\n",
    "    ans = find_minus(sum_,mul_)\n",
    "    return ans\n",
    "\n",
    "find_algebric_sum(A,B)\n",
    "    "
   ]
  },
  {
   "cell_type": "code",
   "execution_count": 28,
   "metadata": {},
   "outputs": [
    {
     "data": {
      "text/plain": [
       "{'a': 0.18, 'b': 0.27, 'c': 0.24, 'd': 0.3}"
      ]
     },
     "execution_count": 28,
     "metadata": {},
     "output_type": "execute_result"
    }
   ],
   "source": [
    "def find_algebric_product(a,b):\n",
    "    ans = find_product(a,b)\n",
    "    return ans\n",
    "\n",
    "find_algebric_product(A,B)"
   ]
  },
  {
   "cell_type": "code",
   "execution_count": 29,
   "metadata": {},
   "outputs": [
    {
     "data": {
      "text/plain": [
       "{'a': 1, 'b': 1, 'c': 1, 'd': 1}"
      ]
     },
     "execution_count": 29,
     "metadata": {},
     "output_type": "execute_result"
    }
   ],
   "source": [
    "def find_bounded_sum(a,b):\n",
    "    ans = dict()\n",
    "    sum_ = find_sum(a,b)\n",
    "    for k,val in sum_.items():\n",
    "        ans[k] = min(1,val)\n",
    "    \n",
    "    return ans\n",
    "find_bounded_sum(A,B)"
   ]
  },
  {
   "cell_type": "code",
   "execution_count": 31,
   "metadata": {},
   "outputs": [
    {
     "data": {
      "text/plain": [
       "{'a': 0, 'b': 0, 'c': 0.2, 'd': 0.1}"
      ]
     },
     "execution_count": 31,
     "metadata": {},
     "output_type": "execute_result"
    }
   ],
   "source": [
    "def find_bounded_diff(a,b):\n",
    "    ans = dict()\n",
    "    diff_ = find_minus(a,b)\n",
    "    for k,val in diff_.items():\n",
    "        ans[k] = max(0,val)\n",
    "    \n",
    "    return ans\n",
    "find_bounded_diff(A,B)"
   ]
  },
  {
   "cell_type": "code",
   "execution_count": 38,
   "metadata": {},
   "outputs": [],
   "source": [
    "import pandas as pd\n",
    "\n",
    "all_operations = dict()\n",
    "all_operations['Union'] = find_union(A,B)\n",
    "all_operations['Intersection'] = find_intersection(A,B)\n",
    "all_operations['Complement A'] = find_complement(A)\n",
    "all_operations['Complement B'] = find_complement(B)\n",
    "all_operations['Diffrance A-B'] = find_diffrance(A,B)\n",
    "all_operations['Diffrance B-A'] = find_diffrance(B,A)\n",
    "all_operations['Algebric Sum'] = find_algebric_sum(B,A)\n",
    "all_operations['Algebric Product'] = find_algebric_product(A,B)\n",
    "all_operations['Bounded Sum'] = find_bounded_sum(A,B)\n",
    "all_operations['Bounded Diffrance'] = find_bounded_diff(A,B)\n"
   ]
  },
  {
   "cell_type": "code",
   "execution_count": 44,
   "metadata": {},
   "outputs": [],
   "source": [
    "all_ans = pd.DataFrame(columns=all_operations.keys(),data=all_operations)"
   ]
  },
  {
   "cell_type": "code",
   "execution_count": 46,
   "metadata": {},
   "outputs": [
    {
     "data": {
      "text/html": [
       "<div>\n",
       "<style scoped>\n",
       "    .dataframe tbody tr th:only-of-type {\n",
       "        vertical-align: middle;\n",
       "    }\n",
       "\n",
       "    .dataframe tbody tr th {\n",
       "        vertical-align: top;\n",
       "    }\n",
       "\n",
       "    .dataframe thead th {\n",
       "        text-align: right;\n",
       "    }\n",
       "</style>\n",
       "<table border=\"1\" class=\"dataframe\">\n",
       "  <thead>\n",
       "    <tr style=\"text-align: right;\">\n",
       "      <th></th>\n",
       "      <th>a</th>\n",
       "      <th>b</th>\n",
       "      <th>c</th>\n",
       "      <th>d</th>\n",
       "    </tr>\n",
       "  </thead>\n",
       "  <tbody>\n",
       "    <tr>\n",
       "      <th>Union</th>\n",
       "      <td>0.90</td>\n",
       "      <td>0.90</td>\n",
       "      <td>0.60</td>\n",
       "      <td>0.6</td>\n",
       "    </tr>\n",
       "    <tr>\n",
       "      <th>Intersection</th>\n",
       "      <td>0.20</td>\n",
       "      <td>0.30</td>\n",
       "      <td>0.40</td>\n",
       "      <td>0.5</td>\n",
       "    </tr>\n",
       "    <tr>\n",
       "      <th>Complement A</th>\n",
       "      <td>0.80</td>\n",
       "      <td>0.70</td>\n",
       "      <td>0.40</td>\n",
       "      <td>0.4</td>\n",
       "    </tr>\n",
       "    <tr>\n",
       "      <th>Complement B</th>\n",
       "      <td>0.10</td>\n",
       "      <td>0.10</td>\n",
       "      <td>0.60</td>\n",
       "      <td>0.5</td>\n",
       "    </tr>\n",
       "    <tr>\n",
       "      <th>Diffrance A-B</th>\n",
       "      <td>0.10</td>\n",
       "      <td>0.10</td>\n",
       "      <td>0.60</td>\n",
       "      <td>0.5</td>\n",
       "    </tr>\n",
       "    <tr>\n",
       "      <th>Diffrance B-A</th>\n",
       "      <td>0.80</td>\n",
       "      <td>0.70</td>\n",
       "      <td>0.40</td>\n",
       "      <td>0.4</td>\n",
       "    </tr>\n",
       "    <tr>\n",
       "      <th>Algebric Sum</th>\n",
       "      <td>0.92</td>\n",
       "      <td>0.93</td>\n",
       "      <td>0.76</td>\n",
       "      <td>0.8</td>\n",
       "    </tr>\n",
       "    <tr>\n",
       "      <th>Algebric Product</th>\n",
       "      <td>0.18</td>\n",
       "      <td>0.27</td>\n",
       "      <td>0.24</td>\n",
       "      <td>0.3</td>\n",
       "    </tr>\n",
       "    <tr>\n",
       "      <th>Bounded Sum</th>\n",
       "      <td>1.00</td>\n",
       "      <td>1.00</td>\n",
       "      <td>1.00</td>\n",
       "      <td>1.0</td>\n",
       "    </tr>\n",
       "    <tr>\n",
       "      <th>Bounded Diffrance</th>\n",
       "      <td>0.00</td>\n",
       "      <td>0.00</td>\n",
       "      <td>0.20</td>\n",
       "      <td>0.1</td>\n",
       "    </tr>\n",
       "  </tbody>\n",
       "</table>\n",
       "</div>"
      ],
      "text/plain": [
       "                      a     b     c    d\n",
       "Union              0.90  0.90  0.60  0.6\n",
       "Intersection       0.20  0.30  0.40  0.5\n",
       "Complement A       0.80  0.70  0.40  0.4\n",
       "Complement B       0.10  0.10  0.60  0.5\n",
       "Diffrance A-B      0.10  0.10  0.60  0.5\n",
       "Diffrance B-A      0.80  0.70  0.40  0.4\n",
       "Algebric Sum       0.92  0.93  0.76  0.8\n",
       "Algebric Product   0.18  0.27  0.24  0.3\n",
       "Bounded Sum        1.00  1.00  1.00  1.0\n",
       "Bounded Diffrance  0.00  0.00  0.20  0.1"
      ]
     },
     "execution_count": 46,
     "metadata": {},
     "output_type": "execute_result"
    }
   ],
   "source": [
    "all_ans.transpose()"
   ]
  },
  {
   "cell_type": "code",
   "execution_count": null,
   "metadata": {},
   "outputs": [],
   "source": []
  }
 ],
 "metadata": {
  "kernelspec": {
   "display_name": "env",
   "language": "python",
   "name": "python3"
  },
  "language_info": {
   "codemirror_mode": {
    "name": "ipython",
    "version": 3
   },
   "file_extension": ".py",
   "mimetype": "text/x-python",
   "name": "python",
   "nbconvert_exporter": "python",
   "pygments_lexer": "ipython3",
   "version": "3.11.3"
  },
  "orig_nbformat": 4
 },
 "nbformat": 4,
 "nbformat_minor": 2
}
